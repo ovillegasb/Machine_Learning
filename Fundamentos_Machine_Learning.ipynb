{
 "cells": [
  {
   "cell_type": "markdown",
   "id": "12dfc046-f9a4-4ab2-aca5-25a183b5e9f6",
   "metadata": {},
   "source": [
    "# Fundamentos de Machine Learning"
   ]
  },
  {
   "cell_type": "markdown",
   "id": "1c094e83-707b-4e9a-9cb4-e7638ebd0476",
   "metadata": {},
   "source": [
    "## Introduccion a ScikitLearn"
   ]
  },
  {
   "cell_type": "markdown",
   "id": "4b9e23a4-d985-4892-a50d-d49a2f8ca79a",
   "metadata": {},
   "source": [
    "Biblioteca de codigo abierto para el aprendizaje automatico, incluye algoritmos como arbolos de decision, regresion, maquina de soporte vectorial, entre otros.\n",
    "\n",
    "- Variedad de modulos\n",
    "- Versatilidad\n",
    "- Facil uso"
   ]
  },
  {
   "cell_type": "markdown",
   "id": "6be11a81-6e37-4107-832f-1ea1a4e26984",
   "metadata": {},
   "source": [
    "## Regresion Lineal y Logistica"
   ]
  },
  {
   "cell_type": "markdown",
   "id": "c2d6b57a-470c-4b2e-85f2-48cfb20aa4b3",
   "metadata": {},
   "source": [
    "### Regresion Lineal Simple"
   ]
  },
  {
   "cell_type": "markdown",
   "id": "3c8deed3-9af5-44a3-8611-5c211e4438dc",
   "metadata": {},
   "source": [
    "$Y_i = b + mX_i$"
   ]
  },
  {
   "cell_type": "markdown",
   "id": "3aedcbe8-4103-4902-9b5c-032268ecf68e",
   "metadata": {},
   "source": [
    "### Regresion Lineal Multiple"
   ]
  },
  {
   "cell_type": "code",
   "execution_count": null,
   "id": "c25de421-1239-4489-8edb-436127514a9b",
   "metadata": {},
   "outputs": [],
   "source": []
  }
 ],
 "metadata": {
  "kernelspec": {
   "display_name": "Python 3 (ipykernel)",
   "language": "python",
   "name": "python3"
  },
  "language_info": {
   "codemirror_mode": {
    "name": "ipython",
    "version": 3
   },
   "file_extension": ".py",
   "mimetype": "text/x-python",
   "name": "python",
   "nbconvert_exporter": "python",
   "pygments_lexer": "ipython3",
   "version": "3.8.11"
  }
 },
 "nbformat": 4,
 "nbformat_minor": 5
}
